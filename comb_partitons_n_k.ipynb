{
 "cells": [
  {
   "cell_type": "markdown",
   "id": "02f938f2",
   "metadata": {},
   "source": [
    "# get combinations  or parttions "
   ]
  },
  {
   "cell_type": "code",
   "execution_count": 1,
   "id": "c6619914",
   "metadata": {},
   "outputs": [],
   "source": [
    "class get_partitions_and_composition:\n",
    "    def __init__(self, k=None, n=None, is_partition=False, repeat_num=False):\n",
    "        \"\"\"\n",
    "         k:= How many numbers are allowed to sum to n \n",
    "         n:=  what the numbers in k sum to \n",
    "         is_partition:= do you want order to not matter \n",
    "         repeat_num:= do you also want the numbers to not repeat\n",
    "        \n",
    "        \"\"\"\n",
    "        \n",
    "        self.k = k \n",
    "        self.n = n\n",
    "        self.is_partition = is_partition\n",
    "        self.repeat_num = repeat_num\n",
    "        \n",
    "        \n",
    "        \n",
    "    def get_range(self, l, n ,s ):\n",
    "        \"\"\"\n",
    "        gets trange that gives, partitions, \n",
    "        compositions and allows numbers to be or not repeated \n",
    "        \"\"\"\n",
    "        # partitions with repeats eg 1+1+2 = 4 \n",
    "        if self.is_partition  and self.repeat_num == True :\n",
    "            return range(l[-1],n-s+1)\n",
    "        #partition no repeat  eg not allowed 1+1+2 = 4 \n",
    "        if (self.is_partition==True and self.repeat_num == False):\n",
    "            return range(l[-1] + 1, n-s+1)\n",
    "        \n",
    "        #plain old compositions order matters \n",
    "        else:\n",
    "            return range(1, n-s+1)\n",
    "        \n",
    "    def do_work(self):\n",
    "        k = self.k \n",
    "        n = self.n    \n",
    "        assert n > k > 1\n",
    "        to_process = [[i] for i in range(1, n+1)]\n",
    "        while to_process:\n",
    "            l = to_process.pop()\n",
    "            s = sum(l)\n",
    "            le = len(l)\n",
    "            for i in self.get_range(l,n,s): \n",
    "                news = s + i\n",
    "                if news <= n:\n",
    "                    newl = list(l)\n",
    "                    newl.append(i)\n",
    "                    if le == k-1 and news == n:\n",
    "                        yield tuple(newl)\n",
    "                    elif le < k-1 and news < n:\n",
    "                        to_process.append(newl)\n",
    "   \n",
    "    def get_values_for_n_k(self):\n",
    "        return list(self.do_work())\n",
    "  \n",
    "    def get_vals_for_up_to_k(self):\n",
    "    #         return self.get_values_for_n_k()\n",
    "        vals=[]\n",
    "        for temp_k in range(2,self.k+1):\n",
    "            self.k = temp_k\n",
    "            vals.append(self.get_values_for_n_k())\n",
    "\n",
    "        return vals\n",
    "            \n",
    "            \n",
    "    \n",
    "    \n",
    "       \n",
    " \n",
    "\n",
    "        \n",
    "        \n",
    "        \n",
    "        \n"
   ]
  },
  {
   "cell_type": "markdown",
   "id": "dae232ca",
   "metadata": {},
   "source": [
    "## Composition"
   ]
  },
  {
   "cell_type": "code",
   "execution_count": 2,
   "id": "36271b59",
   "metadata": {},
   "outputs": [
    {
     "data": {
      "text/plain": [
       "[(5, 1, 1),\n",
       " (4, 2, 1),\n",
       " (4, 1, 2),\n",
       " (3, 3, 1),\n",
       " (3, 2, 2),\n",
       " (3, 1, 3),\n",
       " (2, 4, 1),\n",
       " (2, 3, 2),\n",
       " (2, 2, 3),\n",
       " (2, 1, 4),\n",
       " (1, 5, 1),\n",
       " (1, 4, 2),\n",
       " (1, 3, 3),\n",
       " (1, 2, 4),\n",
       " (1, 1, 5)]"
      ]
     },
     "execution_count": 2,
     "metadata": {},
     "output_type": "execute_result"
    }
   ],
   "source": [
    "n_=7 \n",
    "k_=3\n",
    "gpac = get_partitions_and_composition(k=k_,n=n_)\n",
    "gpac.get_values_for_n_k()\n"
   ]
  },
  {
   "cell_type": "markdown",
   "id": "efc3a91d",
   "metadata": {},
   "source": [
    "# partition  with repeat "
   ]
  },
  {
   "cell_type": "code",
   "execution_count": 3,
   "id": "369a5008",
   "metadata": {},
   "outputs": [
    {
     "data": {
      "text/plain": [
       "[(2, 2, 3), (1, 3, 3), (1, 2, 4), (1, 1, 5)]"
      ]
     },
     "execution_count": 3,
     "metadata": {},
     "output_type": "execute_result"
    }
   ],
   "source": [
    "gpac = get_partitions_and_composition(k=k_,n=n_,is_partition=True , repeat_num= True)\n",
    "gpac.get_values_for_n_k()\n"
   ]
  },
  {
   "cell_type": "markdown",
   "id": "e4e5f356",
   "metadata": {},
   "source": [
    "## partition no repeat \n",
    "> this is what you want for the problem "
   ]
  },
  {
   "cell_type": "code",
   "execution_count": 4,
   "id": "ae6cd245",
   "metadata": {},
   "outputs": [
    {
     "data": {
      "text/plain": [
       "[(1, 2, 4)]"
      ]
     },
     "execution_count": 4,
     "metadata": {},
     "output_type": "execute_result"
    }
   ],
   "source": [
    "gpac = get_partitions_and_composition(k=k_,n=n_, is_partition=True , repeat_num= False)\n",
    "gpac.get_values_for_n_k()\n"
   ]
  },
  {
   "cell_type": "markdown",
   "id": "c658ae08",
   "metadata": {},
   "source": [
    "## Returns all possible sums to n for n < k\n",
    "* with initialization conditions of `get_partitions_and_composition`\n",
    "* as a list of lists for each k k being the total numbers to sum to n "
   ]
  },
  {
   "cell_type": "code",
   "execution_count": 5,
   "id": "76ff62d2",
   "metadata": {},
   "outputs": [
    {
     "data": {
      "text/plain": [
       "[[(3, 4), (2, 5), (1, 6)], [(1, 2, 4)]]"
      ]
     },
     "execution_count": 5,
     "metadata": {},
     "output_type": "execute_result"
    }
   ],
   "source": [
    "gpac.get_vals_for_up_to_k()"
   ]
  }
 ],
 "metadata": {
  "kernelspec": {
   "display_name": "Python 3",
   "language": "python",
   "name": "python3"
  },
  "language_info": {
   "codemirror_mode": {
    "name": "ipython",
    "version": 3
   },
   "file_extension": ".py",
   "mimetype": "text/x-python",
   "name": "python",
   "nbconvert_exporter": "python",
   "pygments_lexer": "ipython3",
   "version": "3.7.10"
  }
 },
 "nbformat": 4,
 "nbformat_minor": 5
}
